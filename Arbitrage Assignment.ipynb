{
 "cells": [
  {
   "cell_type": "code",
   "execution_count": 49,
   "metadata": {
    "scrolled": true
   },
   "outputs": [],
   "source": [
    "import numpy as np\n",
    "from matplotlib import pyplot as plt \n",
    "import pandas as pd \n",
    "import requests as req"
   ]
  },
  {
   "cell_type": "code",
   "execution_count": 51,
   "metadata": {},
   "outputs": [
    {
     "data": {
      "text/html": [
       "<div>\n",
       "<style scoped>\n",
       "    .dataframe tbody tr th:only-of-type {\n",
       "        vertical-align: middle;\n",
       "    }\n",
       "\n",
       "    .dataframe tbody tr th {\n",
       "        vertical-align: top;\n",
       "    }\n",
       "\n",
       "    .dataframe thead th {\n",
       "        text-align: right;\n",
       "    }\n",
       "</style>\n",
       "<table border=\"1\" class=\"dataframe\">\n",
       "  <thead>\n",
       "    <tr style=\"text-align: right;\">\n",
       "      <th></th>\n",
       "      <th>market</th>\n",
       "      <th>price</th>\n",
       "      <th>volume</th>\n",
       "    </tr>\n",
       "  </thead>\n",
       "  <tbody>\n",
       "    <tr>\n",
       "      <th>0</th>\n",
       "      <td>BitFinex</td>\n",
       "      <td>6680.20000000</td>\n",
       "      <td>52585.725478</td>\n",
       "    </tr>\n",
       "    <tr>\n",
       "      <th>1</th>\n",
       "      <td>Bitstamp</td>\n",
       "      <td>6679.99000000</td>\n",
       "      <td>10753.559095</td>\n",
       "    </tr>\n",
       "    <tr>\n",
       "      <th>2</th>\n",
       "      <td>Bittrex</td>\n",
       "      <td>6675.00000000</td>\n",
       "      <td>2762.481398</td>\n",
       "    </tr>\n",
       "    <tr>\n",
       "      <th>3</th>\n",
       "      <td>C-Cex</td>\n",
       "      <td>7279.00000000</td>\n",
       "      <td>3.137787</td>\n",
       "    </tr>\n",
       "    <tr>\n",
       "      <th>4</th>\n",
       "      <td>Cex.io</td>\n",
       "      <td>6829.60000000</td>\n",
       "      <td>856.575484</td>\n",
       "    </tr>\n",
       "    <tr>\n",
       "      <th>5</th>\n",
       "      <td>Exmo</td>\n",
       "      <td>6948.00000001</td>\n",
       "      <td>1048.967275</td>\n",
       "    </tr>\n",
       "    <tr>\n",
       "      <th>6</th>\n",
       "      <td>Hitbtc</td>\n",
       "      <td>7000.00000000</td>\n",
       "      <td>6154.320000</td>\n",
       "    </tr>\n",
       "    <tr>\n",
       "      <th>7</th>\n",
       "      <td>Kraken</td>\n",
       "      <td>6658.00000000</td>\n",
       "      <td>7316.535166</td>\n",
       "    </tr>\n",
       "    <tr>\n",
       "      <th>8</th>\n",
       "      <td>Livecoin</td>\n",
       "      <td>7096.73000000</td>\n",
       "      <td>1570.700151</td>\n",
       "    </tr>\n",
       "    <tr>\n",
       "      <th>9</th>\n",
       "      <td>Poloniex</td>\n",
       "      <td>6684.39999999</td>\n",
       "      <td>2501.654100</td>\n",
       "    </tr>\n",
       "    <tr>\n",
       "      <th>10</th>\n",
       "      <td>wexnz</td>\n",
       "      <td>6921.13000000</td>\n",
       "      <td>919.442230</td>\n",
       "    </tr>\n",
       "    <tr>\n",
       "      <th>11</th>\n",
       "      <td>YoBit</td>\n",
       "      <td>7153.50000000</td>\n",
       "      <td>141.363019</td>\n",
       "    </tr>\n",
       "  </tbody>\n",
       "</table>\n",
       "</div>"
      ],
      "text/plain": [
       "      market          price        volume\n",
       "0   BitFinex  6680.20000000  52585.725478\n",
       "1   Bitstamp  6679.99000000  10753.559095\n",
       "2    Bittrex  6675.00000000   2762.481398\n",
       "3      C-Cex  7279.00000000      3.137787\n",
       "4     Cex.io  6829.60000000    856.575484\n",
       "5       Exmo  6948.00000001   1048.967275\n",
       "6     Hitbtc  7000.00000000   6154.320000\n",
       "7     Kraken  6658.00000000   7316.535166\n",
       "8   Livecoin  7096.73000000   1570.700151\n",
       "9   Poloniex  6684.39999999   2501.654100\n",
       "10     wexnz  6921.13000000    919.442230\n",
       "11     YoBit  7153.50000000    141.363019"
      ]
     },
     "execution_count": 51,
     "metadata": {},
     "output_type": "execute_result"
    }
   ],
   "source": [
    "url = 'https://api.cryptonator.com/api/full/btc-usd'\n",
    "JsonData = req.get(url).json()['ticker']['markets']\n",
    "\n",
    "DFrame = pd.DataFrame(JsonData) \n",
    "DFrame "
   ]
  },
  {
   "cell_type": "code",
   "execution_count": 48,
   "metadata": {},
   "outputs": [
    {
     "name": "stdout",
     "output_type": "stream",
     "text": [
      "Lowest Price of bitcoin in Bittrex at 6670.0\n",
      "Max Price of bitcoin in C-Cex at 7289.0\n",
      "Diffrence 619.0\n",
      "You buy From Bittrex 6670.0 And sale At C-Cex 7289.0\n"
     ]
    }
   ],
   "source": [
    "mPrice = np.array(DFrame['price'].values , dtype = 'float64') \n",
    "mVolume = np.array(DFrame['volume'].values , dtype = 'float64') \n",
    "mMarket = np.array(DFrame['market'].values)"
   ]
  },
  {
   "cell_type": "code",
   "execution_count": 52,
   "metadata": {},
   "outputs": [
    {
     "name": "stdout",
     "output_type": "stream",
     "text": [
      "Lowest Price of bitcoin in Bittrex at 6670.0\n",
      "Max Price of bitcoin in C-Cex at 7289.0\n",
      "Diffrence 619.0\n",
      "You buy From Bittrex 6670.0 And sale At C-Cex 7289.0\n"
     ]
    }
   ],
   "source": [
    "print('Lowest Price of bitcoin in '+mMarket[np.argmin(mPrice)] + ' at '+ str(mPrice.min()))\n",
    "print('Max Price of bitcoin in '+mMarket[np.argmax(mPrice)] + ' at '+ str(mPrice.max()))\n",
    "print('Diffrence '+ str(mPrice.ptp()))\n",
    "print('You buy From ' +mMarket[np.argmin(mPrice)]+\" \"+str(min(mPrice))+\" And sale At \" + mMarket[np.argmax(mPrice)]+\" \"+str(max(mPrice)))"
   ]
  },
  {
   "cell_type": "code",
   "execution_count": 53,
   "metadata": {},
   "outputs": [
    {
     "data": {
      "image/png": "[encoded data removed]",
      "text/plain": [
       "<matplotlib.figure.Figure at 0x2366d6366a0>"
      ]
     },
     "metadata": {},
     "output_type": "display_data"
    }
   ],
   "source": [
    "plt.figure(num=None, figsize=(10, 8), dpi=100)\n",
    "plt.scatter(mPrice,mVolume, color='r', marker=\".\")\n",
    "\n",
    "for mMkt, mPri, mVol in zip(mMarket, mPrice, mVolume):    \n",
    "    plt.annotate(mMkt,xy=(mPri, mVol), xytext=(5, -5), textcoords='offset points',fontsize=8)\n",
    "    \n",
    "\n",
    "plt.title(\"Cryptocurrency Arbitrage Assignment\")\n",
    "plt.xlabel(\"Price\")\n",
    "plt.ylabel(\"Volumes\")\n",
    "plt.show()"
   ]
  },
  {
   "cell_type": "code",
   "execution_count": null,
   "metadata": {},
   "outputs": [],
   "source": []
  }
 ],
 "metadata": {
  "kernelspec": {
   "display_name": "Python 3",
   "language": "python",
   "name": "python3"
  },
  "language_info": {
   "codemirror_mode": {
    "name": "ipython",
    "version": 3
   },
   "file_extension": ".py",
   "mimetype": "text/x-python",
   "name": "python",
   "nbconvert_exporter": "python",
   "pygments_lexer": "ipython3",
   "version": "3.6.4"
  }
 },
 "nbformat": 4,
 "nbformat_minor": 2
}
